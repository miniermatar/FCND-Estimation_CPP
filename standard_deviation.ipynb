{
 "cells": [
  {
   "cell_type": "code",
   "execution_count": 43,
   "id": "2b57d5b0",
   "metadata": {},
   "outputs": [],
   "source": [
    "import pandas as pd\n",
    "import numpy as np"
   ]
  },
  {
   "cell_type": "code",
   "execution_count": 50,
   "id": "3d9e8bf3",
   "metadata": {},
   "outputs": [],
   "source": [
    "df_gps=pd.read_csv(\"config/log/saved/Graph1.txt\")\n",
    "df_imu=pd.read_csv(\"config/log/saved/Graph2.txt\")\n"
   ]
  },
  {
   "cell_type": "code",
   "execution_count": 51,
   "id": "1cfd1feb",
   "metadata": {},
   "outputs": [
    {
     "name": "stdout",
     "output_type": "stream",
     "text": [
      "<class 'pandas.core.frame.DataFrame'>\n",
      "RangeIndex: 70 entries, 0 to 69\n",
      "Data columns (total 2 columns):\n",
      " #   Column       Non-Null Count  Dtype  \n",
      "---  ------       --------------  -----  \n",
      " 0   time         70 non-null     float64\n",
      " 1    Quad.GPS.X  70 non-null     float64\n",
      "dtypes: float64(2)\n",
      "memory usage: 1.2 KB\n"
     ]
    }
   ],
   "source": [
    "df_gps.info()"
   ]
  },
  {
   "cell_type": "code",
   "execution_count": 52,
   "id": "6c0c2125",
   "metadata": {},
   "outputs": [
    {
     "name": "stdout",
     "output_type": "stream",
     "text": [
      "<class 'pandas.core.frame.DataFrame'>\n",
      "RangeIndex: 1409 entries, 0 to 1408\n",
      "Data columns (total 2 columns):\n",
      " #   Column        Non-Null Count  Dtype  \n",
      "---  ------        --------------  -----  \n",
      " 0   time          1409 non-null   float64\n",
      " 1    Quad.IMU.AX  1409 non-null   float64\n",
      "dtypes: float64(2)\n",
      "memory usage: 22.1 KB\n"
     ]
    }
   ],
   "source": [
    "df_imu.info()"
   ]
  },
  {
   "cell_type": "code",
   "execution_count": 53,
   "id": "fb37ddba",
   "metadata": {},
   "outputs": [
    {
     "data": {
      "text/plain": [
       "0.7070256462804207"
      ]
     },
     "execution_count": 53,
     "metadata": {},
     "output_type": "execute_result"
    }
   ],
   "source": [
    "np.std(df_gps[\" Quad.GPS.X\"])"
   ]
  },
  {
   "cell_type": "code",
   "execution_count": 54,
   "id": "a87cc526",
   "metadata": {},
   "outputs": [
    {
     "data": {
      "text/plain": [
       "0.4965760218638606"
      ]
     },
     "execution_count": 54,
     "metadata": {},
     "output_type": "execute_result"
    }
   ],
   "source": [
    "np.std(df_imu[\" Quad.IMU.AX\"])"
   ]
  },
  {
   "cell_type": "code",
   "execution_count": null,
   "id": "e24e7783",
   "metadata": {},
   "outputs": [],
   "source": []
  }
 ],
 "metadata": {
  "kernelspec": {
   "display_name": "Python 3 (ipykernel)",
   "language": "python",
   "name": "python3"
  },
  "language_info": {
   "codemirror_mode": {
    "name": "ipython",
    "version": 3
   },
   "file_extension": ".py",
   "mimetype": "text/x-python",
   "name": "python",
   "nbconvert_exporter": "python",
   "pygments_lexer": "ipython3",
   "version": "3.6.3"
  },
  "varInspector": {
   "cols": {
    "lenName": 16,
    "lenType": 16,
    "lenVar": 40
   },
   "kernels_config": {
    "python": {
     "delete_cmd_postfix": "",
     "delete_cmd_prefix": "del ",
     "library": "var_list.py",
     "varRefreshCmd": "print(var_dic_list())"
    },
    "r": {
     "delete_cmd_postfix": ") ",
     "delete_cmd_prefix": "rm(",
     "library": "var_list.r",
     "varRefreshCmd": "cat(var_dic_list()) "
    }
   },
   "types_to_exclude": [
    "module",
    "function",
    "builtin_function_or_method",
    "instance",
    "_Feature"
   ],
   "window_display": false
  }
 },
 "nbformat": 4,
 "nbformat_minor": 5
}
